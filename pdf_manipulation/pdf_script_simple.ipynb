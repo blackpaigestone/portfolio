{
 "cells": [
  {
   "cell_type": "markdown",
   "metadata": {},
   "source": [
    "This short script contains basic PDF extraction and writing code. The content I used to learn these techniques is located at:\n",
    "https://pypdf.readthedocs.io/en/latest/user/extract-text.html\n",
    "https://medium.com/@inzaniak/pypdf-a-brief-introduction-to-pdf-manipulation-in-python-ca2dc5ce7122\n"
   ]
  },
  {
   "cell_type": "code",
   "execution_count": 12,
   "metadata": {},
   "outputs": [
    {
     "data": {
      "text/plain": [
       "'/Users/paigeblackstone/Library/Mobile Documents/com~apple~CloudDocs/career'"
      ]
     },
     "execution_count": 12,
     "metadata": {},
     "output_type": "execute_result"
    }
   ],
   "source": [
    "import pandas\n",
    "from pypdf import PdfReader\n",
    "\n",
    "import os\n",
    "cwd = os.getcwd()\n",
    "cwd"
   ]
  },
  {
   "cell_type": "markdown",
   "metadata": {},
   "source": [
    "You can manipulate the string with \n",
    "e.g. dir_path = os.path.join(dir_path, '..', 'somefolder').\n",
    "With the resulting string you can do os.chdir(dir_path)"
   ]
  },
  {
   "cell_type": "code",
   "execution_count": 13,
   "metadata": {},
   "outputs": [],
   "source": [
    "#changing the active directory\n",
    "os.chdir('/Users/paigeblackstone/Library/Mobile Documents/com~apple~CloudDocs/career/')"
   ]
  },
  {
   "cell_type": "code",
   "execution_count": 14,
   "metadata": {},
   "outputs": [],
   "source": [
    "#checking the active directory and grabbing the file\n",
    "cwd = os.getcwd()\n",
    "cv = cwd + '/pinterest_coverletter_good_general.pdf'"
   ]
  },
  {
   "cell_type": "code",
   "execution_count": 8,
   "metadata": {},
   "outputs": [
    {
     "name": "stdout",
     "output_type": "stream",
     "text": [
      "1\n",
      "Paige Blackstone\n",
      "Canva\n",
      "Canva\n",
      "None\n",
      "pinterest_coverletter\n"
     ]
    }
   ],
   "source": [
    "#fetching metadata from pdf\n",
    "\n",
    "reader = PdfReader(cv)\n",
    "\n",
    "meta = reader.metadata\n",
    "\n",
    "print(len(reader.pages))\n",
    "\n",
    "# All of the following could be None!\n",
    "print(meta.author)\n",
    "print(meta.creator)\n",
    "print(meta.producer)\n",
    "print(meta.subject)\n",
    "print(meta.title)"
   ]
  },
  {
   "cell_type": "code",
   "execution_count": 15,
   "metadata": {},
   "outputs": [
    {
     "name": "stdout",
     "output_type": "stream",
     "text": [
      "\n"
     ]
    }
   ],
   "source": [
    "#extracting text from pdf\n",
    "page = reader.pages[0] # get the first page  \n",
    "text = page.extract_text() # extract text from the page  \n",
    "print(text) # print text"
   ]
  },
  {
   "cell_type": "code",
   "execution_count": null,
   "metadata": {},
   "outputs": [],
   "source": [
    "# extract only text oriented up\n",
    "print(page.extract_text(0))\n",
    "\n",
    "# extract text oriented up and turned left\n",
    "print(page.extract_text((0, 90)))"
   ]
  },
  {
   "cell_type": "code",
   "execution_count": 11,
   "metadata": {},
   "outputs": [
    {
     "data": {
      "text/plain": [
       "(True, <_io.FileIO [closed]>)"
      ]
     },
     "execution_count": 11,
     "metadata": {},
     "output_type": "execute_result"
    }
   ],
   "source": [
    "#writing a new pdf combining two existing pdf in a directory\n",
    "\n",
    "from pypdf import PdfWriter  \n",
    "  \n",
    "writer = PdfWriter() # create writer object  \n",
    "  \n",
    "# loop through source files  \n",
    "for filename in ['pinterest_coverletter_good_general.pdf', \"pb_resume_oct23.pdf\"]:  \n",
    "    reader = PdfReader(filename) # read source file  \n",
    "    for page in reader.pages: # loop through pages  \n",
    "        writer.add_page(page) # append page  \n",
    "  \n",
    "writer.write(\"merged.pdf\") # write merged file"
   ]
  }
 ],
 "metadata": {
  "kernelspec": {
   "display_name": "Python 3",
   "language": "python",
   "name": "python3"
  },
  "language_info": {
   "codemirror_mode": {
    "name": "ipython",
    "version": 3
   },
   "file_extension": ".py",
   "mimetype": "text/x-python",
   "name": "python",
   "nbconvert_exporter": "python",
   "pygments_lexer": "ipython3",
   "version": "3.11.1"
  }
 },
 "nbformat": 4,
 "nbformat_minor": 2
}
